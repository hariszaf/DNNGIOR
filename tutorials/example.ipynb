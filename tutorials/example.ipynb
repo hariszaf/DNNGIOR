{
 "cells": [
  {
   "cell_type": "markdown",
   "id": "c549c3ad",
   "metadata": {},
   "source": [
    "# Gapfill a draft GEM using the `dnngior`gapfiller"
   ]
  },
  {
   "cell_type": "markdown",
   "id": "878d7db4",
   "metadata": {},
   "source": [
    "# Installation"
   ]
  },
  {
   "cell_type": "markdown",
   "id": "5e234d46",
   "metadata": {},
   "source": [
    "To run the `dnngior` gapfiller we need to have the [Gurobi](https://www.gurobi.com) solver. "
   ]
  },
  {
   "cell_type": "code",
   "execution_count": 22,
   "id": "5f327b25",
   "metadata": {},
   "outputs": [],
   "source": [
    "!pip install -i https://pypi.gurobi.com gurobipy"
   ]
  },
  {
   "cell_type": "markdown",
   "id": "250fc99e",
   "metadata": {},
   "source": [
    "To run `gurobi`, you first need a [license](https://www.gurobi.com/downloads/). \n",
    "If you are an acedemic, you may get a license for free.\n",
    "\n",
    "**Attention!** To run `dnngior`, the Gurobi solver is **not** optional! \n",
    "Without a valid installation of Gurobi, `dnngior` will fail."
   ]
  },
  {
   "cell_type": "markdown",
   "id": "fee68595",
   "metadata": {},
   "source": [
    "Once you have successfully got `gurobi`, you are ready to install the `dnngior` gapfiller. "
   ]
  },
  {
   "cell_type": "code",
   "execution_count": 3,
   "id": "cef60e3c",
   "metadata": {},
   "outputs": [],
   "source": [
    "!pip install dnngior"
   ]
  },
  {
   "cell_type": "markdown",
   "id": "07550995",
   "metadata": {},
   "source": [
    "Let us get a genome scale reconstruction of a *Blautia* strain to work with:"
   ]
  },
  {
   "cell_type": "code",
   "execution_count": 42,
   "id": "162529f1",
   "metadata": {},
   "outputs": [],
   "source": [
    "import os, sys\n",
    "\n",
    "cwd         = os.getcwd()\n",
    "repo_path   = \"/\".join(os.path.abspath(cwd).split(\"/\")[:-1])\n",
    "models_path = os.path.join(repo_path, \"docs/models\")\n",
    "path_to_blautia_model = os.path.join(models_path, \"bh_ungapfilled_model.sbml\")"
   ]
  },
  {
   "cell_type": "markdown",
   "id": "48e15ec8",
   "metadata": {},
   "source": [
    "Now, we can load the initial reconstruction, check its medium and whether it grows on it. "
   ]
  },
  {
   "cell_type": "code",
   "execution_count": 43,
   "id": "6727363f",
   "metadata": {},
   "outputs": [
    {
     "name": "stderr",
     "output_type": "stream",
     "text": [
      "'' is not a valid SBML 'SId'.\n"
     ]
    },
    {
     "name": "stdout",
     "output_type": "stream",
     "text": [
      "Exchange for H+ [e] [e0]\n",
      "Exchange for Adenosine [e] [e0]\n",
      "Exchange for Fumarate [e] [e0]\n",
      "Exchange for Nitrite [e] [e0]\n",
      "Exchange for Ornithine [e] [e0]\n",
      "Exchange for Galactose [e] [e0]\n",
      "Exchange for Succinate [e] [e0]\n",
      "Exchange for L-methionine R-oxide [e] [e0]\n",
      "Exchange for Pb [e] [e0]\n",
      "Exchange for Glycine [e] [e0]\n",
      "Exchange for Deoxyuridine [e] [e0]\n",
      "Exchange for PPi [e] [e0]\n",
      "Exchange for Putrescine [e] [e0]\n",
      "Exchange for Salicin [e] [e0]\n",
      "Exchange for L-Threonine [e] [e0]\n",
      "Exchange for L-Proline [e] [e0]\n",
      "Exchange for Na+ [e] [e0]\n",
      "Exchange for Cd2+ [e] [e0]\n",
      "Exchange for Cbl [e] [e0]\n",
      "Exchange for L-Lysine [e] [e0]\n",
      "Exchange for Cadaverine [e] [e0]\n",
      "Exchange for Inosine [e] [e0]\n",
      "Exchange for Pyruvate [e] [e0]\n",
      "Exchange for GLUM [e] [e0]\n",
      "Exchange for D-Fructose [e] [e0]\n",
      "Exchange for Glycerol-3-phosphate [e] [e0]\n",
      "Exchange for L-Glutamate [e] [e0]\n",
      "Exchange for Ubiquinone-8 [e] [e0]\n",
      "Exchange for Ubiquinol-8 [e] [e0]\n",
      "Exchange for Cytidine [e] [e0]\n",
      "Exchange for Ca2+ [e] [e0]\n",
      "Exchange for Cu2+ [e] [e0]\n",
      "Exchange for L-Leucine [e] [e0]\n",
      "Exchange for L-Idonate [e] [e0]\n",
      "Exchange for Thymidine [e] [e0]\n",
      "Exchange for L-Arabinose [e] [e0]\n",
      "Exchange for D-Mannitol [e] [e0]\n",
      "Exchange for Cys-Gly [e] [e0]\n",
      "Exchange for (R)-3-Hydroxybutanoate [e] [e0]\n",
      "Exchange for GLCN [e] [e0]\n",
      "Exchange for NH3 [e] [e0]\n",
      "Exchange for Xanthosine [e] [e0]\n",
      "Exchange for L-Arginine [e] [e0]\n",
      "Exchange for Ni2+ [e] [e0]\n",
      "Exchange for Maltose [e] [e0]\n",
      "Exchange for K+ [e] [e0]\n",
      "Exchange for Nicotinamide ribonucleotide [e] [e0]\n",
      "Exchange for Glycerol [e] [e0]\n",
      "Exchange for Phosphate [e] [e0]\n",
      "Exchange for GABA [e] [e0]\n",
      "Exchange for D-glucose-6-phosphate [e] [e0]\n",
      "Exchange for L-Methionine [e] [e0]\n",
      "Exchange for Deoxyadenosine [e] [e0]\n",
      "Exchange for Zn2+ [e] [e0]\n",
      "Exchange for Uridine [e] [e0]\n",
      "Exchange for Palmitate [e] [e0]\n",
      "Exchange for L-Histidine [e] [e0]\n",
      "Exchange for D-Glucose [e] [e0]\n",
      "Exchange for Deoxycytidine [e] [e0]\n",
      "Exchange for Sucrose [e] [e0]\n",
      "Exchange for Melibiose [e] [e0]\n",
      "Exchange for Dulcose [e] [e0]\n",
      "Exchange for 2-keto-3-deoxygluconate [e] [e0]\n",
      "Exchange for D-Serine [e] [e0]\n",
      "Exchange for Spermidine [e] [e0]\n",
      "Exchange for L-Serine [e] [e0]\n",
      "Exchange for PAN [e] [e0]\n",
      "Exchange for Acetate [e] [e0]\n",
      "Exchange for Ferrichrome [e] [e0]\n",
      "Exchange for D-Methionine [e] [e0]\n",
      "Exchange for L-Aspartate [e] [e0]\n",
      "Exchange for N-Acetyl-D-glucosamine [e] [e0]\n",
      "Exchange for L-Alanine [e] [e0]\n",
      "Exchange for Gly-Cys [e] [e0]\n",
      "Exchange for Ursin [e] [e0]\n",
      "Exchange for Deoxyguanosine [e] [e0]\n",
      "Exchange for Glucuronate [e] [e0]\n",
      "Exchange for XAN [e] [e0]\n",
      "Exchange for L-Asparagine [e] [e0]\n",
      "Exchange for Allantoin [e] [e0]\n",
      "Exchange for Phenylpropanoate [e] [e0]\n",
      "Exchange for Deoxyinosine [e] [e0]\n",
      "Exchange for Amylotriose [e] [e0]\n",
      "Exchange for Sorbitol [e] [e0]\n",
      "Exchange for D-Galacturonate [e] [e0]\n",
      "Exchange for Heme [e] [e0]\n",
      "Exchange for D-Alanine [e] [e0]\n",
      "Exchange for Cytosine [e] [e0]\n",
      "Exchange for L-Malate [e] [e0]\n",
      "Exchange for D-Mannose [e] [e0]\n",
      "Exchange for Fe2+ [e] [e0]\n",
      "Exchange for L-Lactate [e] [e0]\n",
      "Exchange for BET [e] [e0]\n",
      "Exchange for L-Tryptophan [e] [e0]\n",
      "Exchange for Formate [e] [e0]\n",
      "Exchange for Sulfate [e] [e0]\n",
      "Exchange for Co2+ [e] [e0]\n",
      "Exchange for Myristic acid [e] [e0]\n",
      "Exchange for D-Glucarate [e] [e0]\n",
      "Exchange for Mn2+ [e] [e0]\n",
      "Exchange for Guanosine [e] [e0]\n",
      "Exchange for L-Methionine S-oxide [e] [e0]\n",
      "Exchange for Cl- [e] [e0]\n",
      "Exchange for 2-Oxoglutarate [e] [e0]\n",
      "Exchange for Hg2+ [e] [e0]\n",
      "Exchange for Aminoethanol [e] [e0]\n",
      "Exchange for D-Malate [e] [e0]\n",
      "Exchange for Citrate [e] [e0]\n",
      "Exchange for Nitrate [e] [e0]\n",
      "Exchange for TRHL [e] [e0]\n",
      "Exchange for D-Ribose [e] [e0]\n",
      "Exchange for HYXN [e] [e0]\n",
      "Exchange for Mg [e] [e0]\n",
      "Exchange for L-Fucose [e] [e0]\n",
      "Exchange for H2S2O3 [e] [e0]\n",
      "Exchange for Maltohexaose [e] [e0]\n",
      "Exchange for L-Tyrosine [e] [e0]\n",
      "Exchange for L-Isoleucine [e] [e0]\n",
      "Exchange for L-Ascorbate [e] [e0]\n",
      "Exchange for Vitamin B12 [e] [e0]\n",
      "Exchange for Uracil [e] [e0]\n",
      "Exchange for L-Glutamine [e] [e0]\n",
      "Exchange for L-Valine [e] [e0]\n",
      "Exchange for ocdca [e] [e0]\n",
      "Exchange for L-Rhamnose [e] [e0]\n",
      "Exchange for Thiamin [e] [e0]\n",
      "Exchange for L-Phenylalanine [e] [e0]\n",
      "Exchange for L-Fucose 1-phosphate [e] [e0]\n",
      "Exchange for D-mannose-6-phosphate [e] [e0]\n",
      "Exchange for Carnitine [e] [e0]\n",
      "Exchange for gamma-butyrobetaine [e] [e0]\n",
      "Exchange for L-Inositol [e] [e0]\n",
      "Exchange for Adenine [e] [e0]\n",
      "Exchange for L-Cystine [e] [e0]\n",
      "Exchange for GSH [e] [e0]\n",
      "Exchange for Ciliatine [e] [e0]\n",
      "Exchange for Calomide [e] [e0]\n",
      "Exchange for Ala-Ala [e] [e0]\n",
      "Exchange for Chitobiose [e] [e0]\n",
      "Exchange for N-Acetylmuramate [e] [e0]\n",
      "Exchange for 4-Hydroxybenzoate [e] [e0]\n",
      "Exchange for Enterobactin [e] [e0]\n",
      "Exchange for H2O [e] [e0]\n",
      "Exchange for fe3 [e] [e0]\n",
      "Exchange for O2 [e] [e0]\n",
      "Exchange for Methanol [e] [e0]\n",
      "Exchange for CO2 [e] [e0]\n",
      "Exchange for Fe-enterochlin [e] [e0]\n",
      "148\n"
     ]
    }
   ],
   "source": [
    "import cobra\n",
    "draft_reconstruction = cobra.io.read_sbml_model(path_to_blautia_model)\n",
    "\n",
    "# Check current medium\n",
    "for i in model.medium:\n",
    "    print(draft_reconstruction.reactions.get_by_id(i).name)\n",
    "print(len(draft_reconstruction.medium))"
   ]
  },
  {
   "cell_type": "code",
   "execution_count": 44,
   "id": "940d34a3",
   "metadata": {},
   "outputs": [
    {
     "data": {
      "text/html": [
       "<strong><em>Optimal</em> solution with objective value 0.000</strong><br><div>\n",
       "<style scoped>\n",
       "    .dataframe tbody tr th:only-of-type {\n",
       "        vertical-align: middle;\n",
       "    }\n",
       "\n",
       "    .dataframe tbody tr th {\n",
       "        vertical-align: top;\n",
       "    }\n",
       "\n",
       "    .dataframe thead th {\n",
       "        text-align: right;\n",
       "    }\n",
       "</style>\n",
       "<table border=\"1\" class=\"dataframe\">\n",
       "  <thead>\n",
       "    <tr style=\"text-align: right;\">\n",
       "      <th></th>\n",
       "      <th>fluxes</th>\n",
       "      <th>reduced_costs</th>\n",
       "    </tr>\n",
       "  </thead>\n",
       "  <tbody>\n",
       "    <tr>\n",
       "      <th>rxn02201_c0</th>\n",
       "      <td>0.0</td>\n",
       "      <td>0.0</td>\n",
       "    </tr>\n",
       "    <tr>\n",
       "      <th>rxn00351_c0</th>\n",
       "      <td>0.0</td>\n",
       "      <td>0.0</td>\n",
       "    </tr>\n",
       "    <tr>\n",
       "      <th>rxn00836_c0</th>\n",
       "      <td>0.0</td>\n",
       "      <td>0.0</td>\n",
       "    </tr>\n",
       "    <tr>\n",
       "      <th>rxn05318_c0</th>\n",
       "      <td>0.0</td>\n",
       "      <td>0.0</td>\n",
       "    </tr>\n",
       "    <tr>\n",
       "      <th>rxn01094_c0</th>\n",
       "      <td>0.0</td>\n",
       "      <td>0.0</td>\n",
       "    </tr>\n",
       "    <tr>\n",
       "      <th>...</th>\n",
       "      <td>...</td>\n",
       "      <td>...</td>\n",
       "    </tr>\n",
       "    <tr>\n",
       "      <th>SK_cpd02701_c0</th>\n",
       "      <td>0.0</td>\n",
       "      <td>0.0</td>\n",
       "    </tr>\n",
       "    <tr>\n",
       "      <th>SK_cpd11416_c0</th>\n",
       "      <td>0.0</td>\n",
       "      <td>0.0</td>\n",
       "    </tr>\n",
       "    <tr>\n",
       "      <th>SK_cpd15302_c0</th>\n",
       "      <td>0.0</td>\n",
       "      <td>0.0</td>\n",
       "    </tr>\n",
       "    <tr>\n",
       "      <th>SK_cpd03091_c0</th>\n",
       "      <td>0.0</td>\n",
       "      <td>0.0</td>\n",
       "    </tr>\n",
       "    <tr>\n",
       "      <th>SK_cpd01042_c0</th>\n",
       "      <td>0.0</td>\n",
       "      <td>0.0</td>\n",
       "    </tr>\n",
       "  </tbody>\n",
       "</table>\n",
       "<p>1656 rows × 2 columns</p>\n",
       "</div>"
      ],
      "text/plain": [
       "<Solution 0.000 at 0x7f3e8ffce2f0>"
      ]
     },
     "execution_count": 44,
     "metadata": {},
     "output_type": "execute_result"
    }
   ],
   "source": [
    "draft_reconstruction.optimize()  "
   ]
  },
  {
   "cell_type": "markdown",
   "id": "8a42329e",
   "metadata": {},
   "source": [
    "Apparently, this reconstruction is not growing."
   ]
  },
  {
   "cell_type": "markdown",
   "id": "c2d6dafe",
   "metadata": {},
   "source": [
    "## Gapfill using a complete medium"
   ]
  },
  {
   "cell_type": "markdown",
   "id": "3ed3183e",
   "metadata": {},
   "source": [
    " with equally penalized database reactions"
   ]
  },
  {
   "cell_type": "markdown",
   "id": "3f8a6444",
   "metadata": {},
   "source": [
    "Import the `dnngior` library and use the `Gapfill` class to gapfill the reconstruction. "
   ]
  },
  {
   "cell_type": "code",
   "execution_count": 45,
   "id": "85d9e0b7",
   "metadata": {},
   "outputs": [
    {
     "name": "stderr",
     "output_type": "stream",
     "text": [
      "'' is not a valid SBML 'SId'.\n",
      "'' is not a valid SBML 'SId'.\n",
      "No objective coefficients in model. Unclear what should be optimized\n"
     ]
    },
    {
     "name": "stdout",
     "output_type": "stream",
     "text": [
      "Loading network at user provided path\n",
      "Converting to binary array:\n",
      "#reactions not found in keys:  155 / 1656\n"
     ]
    },
    {
     "name": "stderr",
     "output_type": "stream",
     "text": [
      "/home/luna.kuleuven.be/u0156635/.local/lib/python3.10/site-packages/keras/engine/training_v1.py:2357: UserWarning: `Model.state_updates` will be removed in a future version. This property should not be used in TensorFlow 2.0, as `updates` are applied automatically.\n",
      "  updates=self.state_updates,\n"
     ]
    },
    {
     "name": "stdout",
     "output_type": "stream",
     "text": [
      "Warning for adding constraints: zero or small (< 1e-13) coefficients, ignored\n",
      "Flux through biomass reaction is 1.00000000\n",
      "Flux through biomass reaction is 1.00000000\n",
      "Warning for adding constraints: zero or small (< 1e-13) coefficients, ignored\n",
      "\n",
      "\n",
      " condition is currently:  73622 \n",
      "\n",
      "\n",
      "Warning for adding constraints: zero or small (< 1e-13) coefficients, ignored\n",
      "\n",
      "\n",
      " condition is currently:  36811 \n",
      "\n",
      "\n",
      "Warning for adding constraints: zero or small (< 1e-13) coefficients, ignored\n",
      "\n",
      "\n",
      " condition is currently:  18405 \n",
      "\n",
      "\n",
      "Warning for adding constraints: zero or small (< 1e-13) coefficients, ignored\n",
      "\n",
      "\n",
      " condition is currently:  9202 \n",
      "\n",
      "\n",
      "Warning for adding constraints: zero or small (< 1e-13) coefficients, ignored\n",
      "\n",
      "\n",
      " condition is currently:  4601 \n",
      "\n",
      "\n",
      "Warning for adding constraints: zero or small (< 1e-13) coefficients, ignored\n",
      "\n",
      "\n",
      " condition is currently:  2300 \n",
      "\n",
      "\n",
      "Warning for adding constraints: zero or small (< 1e-13) coefficients, ignored\n",
      "\n",
      "\n",
      " condition is currently:  1150 \n",
      "\n",
      "\n",
      "Warning for adding constraints: zero or small (< 1e-13) coefficients, ignored\n",
      "\n",
      "\n",
      " condition is currently:  575 \n",
      "\n",
      "\n",
      "Warning for adding constraints: zero or small (< 1e-13) coefficients, ignored\n",
      "\n",
      "\n",
      " condition is currently:  287 \n",
      "\n",
      "\n",
      "Warning for adding constraints: zero or small (< 1e-13) coefficients, ignored\n",
      "\n",
      "\n",
      " condition is currently:  143 \n",
      "\n",
      "\n",
      "Warning for adding constraints: zero or small (< 1e-13) coefficients, ignored\n",
      "\n",
      "\n",
      " condition is currently:  71 \n",
      "\n",
      "\n",
      "Warning for adding constraints: zero or small (< 1e-13) coefficients, ignored\n",
      "\n",
      "\n",
      " condition is currently:  35 \n",
      "\n",
      "\n",
      "Warning for adding constraints: zero or small (< 1e-13) coefficients, ignored\n",
      "\n",
      "\n",
      " condition is currently:  17 \n",
      "\n",
      "\n",
      "Warning for adding constraints: zero or small (< 1e-13) coefficients, ignored\n",
      "\n",
      "\n",
      " condition is currently:  8 \n",
      "\n",
      "\n",
      "Warning for adding constraints: zero or small (< 1e-13) coefficients, ignored\n",
      "\n",
      "\n",
      " condition is currently:  4 \n",
      "\n",
      "\n",
      "Warning for adding constraints: zero or small (< 1e-13) coefficients, ignored\n",
      "\n",
      "\n",
      " condition is currently:  2 \n",
      "\n",
      "\n",
      "Warning for adding constraints: zero or small (< 1e-13) coefficients, ignored\n",
      "\n",
      "\n",
      " condition is currently:  1 \n",
      "\n",
      "\n",
      "Objective value is 0.154228.\n",
      "Read LP format model from file /tmp/tmp1wmlzbte.lp\n",
      "Reading time = 0.02 seconds\n",
      ": 1402 rows, 3346 columns, 14424 nonzeros\n"
     ]
    }
   ],
   "source": [
    "import dnngior\n",
    "gapfill_complete_medium = dnngior.Gapfill(draftModel = path_to_blautia_model, \n",
    "                                          medium = None, \n",
    "                                          objectiveName = 'bio1')"
   ]
  },
  {
   "cell_type": "markdown",
   "id": "46735adb",
   "metadata": {},
   "source": [
    "Get the number of reactions added during the gapfilling along with their names. "
   ]
  },
  {
   "cell_type": "code",
   "execution_count": 46,
   "id": "ab06ce7d",
   "metadata": {},
   "outputs": [
    {
     "name": "stdout",
     "output_type": "stream",
     "text": [
      "Number of eactions added: 17\n",
      "~~\n",
      "murein polymerizing transglycosylase\n",
      "R_R05617_c\n",
      "EX_cpd15432_e0\n",
      "acyl-CoA:malonyl-CoA C-acyltransferase (decarboxylating, oxoacyl- and enoyl-reducing, thioester-hydrolysing)\n",
      "-\n",
      "acyl-CoA:malonyl-CoA C-acyltransferase (decarboxylating, oxoacyl-\n",
      "S-adenosyl-L-methione:demethylmenaquinone methyltransferase\n",
      "EX_cpd15511_e0\n",
      "stearoyl-cardiolipin synthase\n",
      "glycolaldehyde:NAD+ oxidoreductase\n",
      "glycine/sarcosine/dimethylglycine N-methyltransferase\n",
      "EX_cpd02557_e0\n",
      "2-Amino-4-hydroxy-6-(erythro-1,2,3-trihydroxypropyl) dihydropteridine triphosphate phosphohydrolase (alkaline optimum)\n",
      "all-trans-Octaprenyl diphosphate\n",
      "EX_cpd02229_e0\n",
      "core oligosaccharide lipid A transport via vector (periplasm to extracellular)\n",
      "\n"
     ]
    }
   ],
   "source": [
    "print(\"Number of eactions added:\", len(gapfill_complete_medium.added_reactions))\n",
    "print(\"~~\")\n",
    "for reaction in gapfill_complete_medium.added_reactions:\n",
    "    print(gf_model_compl_med.reactions.get_by_id(reaction).name)"
   ]
  },
  {
   "cell_type": "markdown",
   "id": "1c1e2ce6",
   "metadata": {},
   "source": [
    "Now make a new object of the gapfilled model."
   ]
  },
  {
   "cell_type": "code",
   "execution_count": 47,
   "id": "10c4258c",
   "metadata": {},
   "outputs": [
    {
     "name": "stdout",
     "output_type": "stream",
     "text": [
      "Read LP format model from file /tmp/tmp1cme7kgq.lp\n",
      "Reading time = 0.01 seconds\n",
      ": 1402 rows, 3346 columns, 14424 nonzeros\n"
     ]
    }
   ],
   "source": [
    "gf_model_compl_med = gapfill_complete_medium.gapfilledModel.copy()"
   ]
  },
  {
   "cell_type": "markdown",
   "id": "763e30b0",
   "metadata": {},
   "source": [
    "And check whether it grows on its medium."
   ]
  },
  {
   "cell_type": "code",
   "execution_count": 48,
   "id": "09f3e294",
   "metadata": {},
   "outputs": [
    {
     "data": {
      "text/html": [
       "<strong><em>Optimal</em> solution with objective value 154.228</strong><br><div>\n",
       "<style scoped>\n",
       "    .dataframe tbody tr th:only-of-type {\n",
       "        vertical-align: middle;\n",
       "    }\n",
       "\n",
       "    .dataframe tbody tr th {\n",
       "        vertical-align: top;\n",
       "    }\n",
       "\n",
       "    .dataframe thead th {\n",
       "        text-align: right;\n",
       "    }\n",
       "</style>\n",
       "<table border=\"1\" class=\"dataframe\">\n",
       "  <thead>\n",
       "    <tr style=\"text-align: right;\">\n",
       "      <th></th>\n",
       "      <th>fluxes</th>\n",
       "      <th>reduced_costs</th>\n",
       "    </tr>\n",
       "  </thead>\n",
       "  <tbody>\n",
       "    <tr>\n",
       "      <th>EX_cpd01329_e0</th>\n",
       "      <td>0.000000</td>\n",
       "      <td>0.0</td>\n",
       "    </tr>\n",
       "    <tr>\n",
       "      <th>rxn04070_c0</th>\n",
       "      <td>0.432545</td>\n",
       "      <td>0.0</td>\n",
       "    </tr>\n",
       "    <tr>\n",
       "      <th>rxn05467_c0</th>\n",
       "      <td>-1000.000000</td>\n",
       "      <td>0.0</td>\n",
       "    </tr>\n",
       "    <tr>\n",
       "      <th>rxn00543_c0</th>\n",
       "      <td>0.000000</td>\n",
       "      <td>-0.0</td>\n",
       "    </tr>\n",
       "    <tr>\n",
       "      <th>rxn00527_c0</th>\n",
       "      <td>0.000000</td>\n",
       "      <td>0.0</td>\n",
       "    </tr>\n",
       "    <tr>\n",
       "      <th>...</th>\n",
       "      <td>...</td>\n",
       "      <td>...</td>\n",
       "    </tr>\n",
       "    <tr>\n",
       "      <th>rxn00131_c0</th>\n",
       "      <td>-41.057192</td>\n",
       "      <td>0.0</td>\n",
       "    </tr>\n",
       "    <tr>\n",
       "      <th>rxn05682_c0</th>\n",
       "      <td>0.000000</td>\n",
       "      <td>0.0</td>\n",
       "    </tr>\n",
       "    <tr>\n",
       "      <th>rxn00184_c0</th>\n",
       "      <td>0.000000</td>\n",
       "      <td>0.0</td>\n",
       "    </tr>\n",
       "    <tr>\n",
       "      <th>rxn01241_c0</th>\n",
       "      <td>0.000000</td>\n",
       "      <td>0.0</td>\n",
       "    </tr>\n",
       "    <tr>\n",
       "      <th>rxn21858_c0</th>\n",
       "      <td>0.432545</td>\n",
       "      <td>0.0</td>\n",
       "    </tr>\n",
       "  </tbody>\n",
       "</table>\n",
       "<p>1673 rows × 2 columns</p>\n",
       "</div>"
      ],
      "text/plain": [
       "<Solution 154.228 at 0x7f3d99d6f610>"
      ]
     },
     "execution_count": 48,
     "metadata": {},
     "output_type": "execute_result"
    }
   ],
   "source": [
    "gf_model_compl_med.optimize()"
   ]
  },
  {
   "cell_type": "markdown",
   "id": "a80f3fee",
   "metadata": {},
   "source": [
    "Check what compounds are now present on the model's medium that were not in the initial's reconstruction."
   ]
  },
  {
   "cell_type": "code",
   "execution_count": 49,
   "id": "7ce581b6",
   "metadata": {},
   "outputs": [
    {
     "name": "stdout",
     "output_type": "stream",
     "text": [
      "~~~~~~\n",
      "Compound  Bactoprenyl diphosphate_e0  has been added in the gapfilled model's medium.\n",
      "Compound  Farnesylfarnesylgeraniol_e0  has been added in the gapfilled model's medium.\n",
      "Compound  two linked disacharide pentapeptide murein units (uncrosslinked, middle of chain)_e0  has been added in the gapfilled model's medium.\n",
      "Compound  core oligosaccharide lipid A_e0  has been added in the gapfilled model's medium.\n"
     ]
    }
   ],
   "source": [
    "for i in draft_reconstruction.medium:\n",
    "    if i not in gf_model_compl_med.medium:\n",
    "        print(\"Compound \", i , \" was part of the initial's model model but not in the gapfilled.\")\n",
    "print(\"~~~~~~\")\n",
    "for j in gf_model_compl_med.medium:\n",
    "    if j not in draft_reconstruction.medium:\n",
    "        print(\"Compound \", gf_model_compl_med.metabolites.get_by_id(j[3:]).name, \" has been added in the gapfilled model's medium.\")"
   ]
  },
  {
   "cell_type": "markdown",
   "id": "e1c06a46",
   "metadata": {},
   "source": [
    "## Gapfill using a defined medium"
   ]
  },
  {
   "cell_type": "markdown",
   "id": "3c9ac186",
   "metadata": {},
   "source": [
    "Load the media file. "
   ]
  },
  {
   "cell_type": "code",
   "execution_count": 50,
   "id": "1d2ef46a",
   "metadata": {},
   "outputs": [],
   "source": [
    "media_file = os.path.join(repo_path, 'docs/biochemistry/Nitrogen-Nitrite_media.tsv')"
   ]
  },
  {
   "cell_type": "code",
   "execution_count": 60,
   "id": "c6a925d6",
   "metadata": {},
   "outputs": [
    {
     "data": {
      "text/html": [
       "<div>\n",
       "<style scoped>\n",
       "    .dataframe tbody tr th:only-of-type {\n",
       "        vertical-align: middle;\n",
       "    }\n",
       "\n",
       "    .dataframe tbody tr th {\n",
       "        vertical-align: top;\n",
       "    }\n",
       "\n",
       "    .dataframe thead th {\n",
       "        text-align: right;\n",
       "    }\n",
       "</style>\n",
       "<table border=\"1\" class=\"dataframe\">\n",
       "  <thead>\n",
       "    <tr style=\"text-align: right;\">\n",
       "      <th></th>\n",
       "      <th>id</th>\n",
       "      <th>name</th>\n",
       "      <th>concentration</th>\n",
       "      <th>minflux</th>\n",
       "      <th>maxflux</th>\n",
       "    </tr>\n",
       "  </thead>\n",
       "  <tbody>\n",
       "    <tr>\n",
       "      <th>0</th>\n",
       "      <td>cpd00027</td>\n",
       "      <td>D-Glucose</td>\n",
       "      <td>0.001</td>\n",
       "      <td>-100</td>\n",
       "      <td>5</td>\n",
       "    </tr>\n",
       "    <tr>\n",
       "      <th>1</th>\n",
       "      <td>cpd00075</td>\n",
       "      <td>Nitrite</td>\n",
       "      <td>0.001</td>\n",
       "      <td>-100</td>\n",
       "      <td>5</td>\n",
       "    </tr>\n",
       "    <tr>\n",
       "      <th>2</th>\n",
       "      <td>cpd00009</td>\n",
       "      <td>Phosphate</td>\n",
       "      <td>0.001</td>\n",
       "      <td>-100</td>\n",
       "      <td>5</td>\n",
       "    </tr>\n",
       "    <tr>\n",
       "      <th>3</th>\n",
       "      <td>cpd00048</td>\n",
       "      <td>Sulfate</td>\n",
       "      <td>0.001</td>\n",
       "      <td>-100</td>\n",
       "      <td>5</td>\n",
       "    </tr>\n",
       "    <tr>\n",
       "      <th>4</th>\n",
       "      <td>cpd00063</td>\n",
       "      <td>Ca2+</td>\n",
       "      <td>0.001</td>\n",
       "      <td>-100</td>\n",
       "      <td>100</td>\n",
       "    </tr>\n",
       "  </tbody>\n",
       "</table>\n",
       "</div>"
      ],
      "text/plain": [
       "         id       name  concentration  minflux  maxflux\n",
       "0  cpd00027  D-Glucose          0.001     -100        5\n",
       "1  cpd00075    Nitrite          0.001     -100        5\n",
       "2  cpd00009  Phosphate          0.001     -100        5\n",
       "3  cpd00048    Sulfate          0.001     -100        5\n",
       "4  cpd00063       Ca2+          0.001     -100      100"
      ]
     },
     "execution_count": 60,
     "metadata": {},
     "output_type": "execute_result"
    }
   ],
   "source": [
    "import pandas as pd\n",
    "raw_data = pd.read_csv(media_file, sep=\"\\t\")\n",
    "raw_data.head()"
   ]
  },
  {
   "cell_type": "markdown",
   "id": "b4b4e771",
   "metadata": {},
   "source": [
    "Load the new media to a dictionary setting the exchange reaction as a key and a dictionary as its value, including a lower, an upper bound and the stoichiometry of the related compound."
   ]
  },
  {
   "cell_type": "code",
   "execution_count": 62,
   "id": "ff6ed50d",
   "metadata": {},
   "outputs": [
    {
     "name": "stderr",
     "output_type": "stream",
     "text": [
      "'' is not a valid SBML 'SId'.\n",
      "'' is not a valid SBML 'SId'.\n",
      "No objective coefficients in model. Unclear what should be optimized\n"
     ]
    },
    {
     "name": "stdout",
     "output_type": "stream",
     "text": [
      "Loading network at user provided path\n",
      "Converting to binary array:\n",
      "#reactions not found in keys:  7 / 1508\n"
     ]
    },
    {
     "name": "stderr",
     "output_type": "stream",
     "text": [
      "/home/luna.kuleuven.be/u0156635/.local/lib/python3.10/site-packages/keras/engine/training_v1.py:2357: UserWarning: `Model.state_updates` will be removed in a future version. This property should not be used in TensorFlow 2.0, as `updates` are applied automatically.\n",
      "  updates=self.state_updates,\n"
     ]
    },
    {
     "name": "stdout",
     "output_type": "stream",
     "text": [
      "Warning for adding constraints: zero or small (< 1e-13) coefficients, ignored\n",
      "Flux through biomass reaction is 1.00000000\n",
      "Flux through biomass reaction is 1.00000000\n",
      "Warning for adding constraints: zero or small (< 1e-13) coefficients, ignored\n",
      "\n",
      "\n",
      " condition is currently:  71554 \n",
      "\n",
      "\n",
      "Warning for adding constraints: zero or small (< 1e-13) coefficients, ignored\n",
      "\n",
      "\n",
      " condition is currently:  35777 \n",
      "\n",
      "\n",
      "Warning for adding constraints: zero or small (< 1e-13) coefficients, ignored\n",
      "\n",
      "\n",
      " condition is currently:  17888 \n",
      "\n",
      "\n",
      "Warning for adding constraints: zero or small (< 1e-13) coefficients, ignored\n",
      "\n",
      "\n",
      " condition is currently:  8944 \n",
      "\n",
      "\n",
      "Warning for adding constraints: zero or small (< 1e-13) coefficients, ignored\n",
      "\n",
      "\n",
      " condition is currently:  4472 \n",
      "\n",
      "\n",
      "Warning for adding constraints: zero or small (< 1e-13) coefficients, ignored\n",
      "\n",
      "\n",
      " condition is currently:  2236 \n",
      "\n",
      "\n",
      "Warning for adding constraints: zero or small (< 1e-13) coefficients, ignored\n",
      "\n",
      "\n",
      " condition is currently:  1118 \n",
      "\n",
      "\n",
      "Warning for adding constraints: zero or small (< 1e-13) coefficients, ignored\n",
      "\n",
      "\n",
      " condition is currently:  559 \n",
      "\n",
      "\n",
      "Warning for adding constraints: zero or small (< 1e-13) coefficients, ignored\n",
      "\n",
      "\n",
      " condition is currently:  279 \n",
      "\n",
      "\n",
      "Warning for adding constraints: zero or small (< 1e-13) coefficients, ignored\n",
      "\n",
      "\n",
      " condition is currently:  139 \n",
      "\n",
      "\n",
      "Warning for adding constraints: zero or small (< 1e-13) coefficients, ignored\n",
      "\n",
      "\n",
      " condition is currently:  69 \n",
      "\n",
      "\n",
      "Warning for adding constraints: zero or small (< 1e-13) coefficients, ignored\n",
      "\n",
      "\n",
      " condition is currently:  34 \n",
      "\n",
      "\n",
      "Warning for adding constraints: zero or small (< 1e-13) coefficients, ignored\n",
      "\n",
      "\n",
      " condition is currently:  17 \n",
      "\n",
      "\n",
      "Warning for adding constraints: zero or small (< 1e-13) coefficients, ignored\n",
      "\n",
      "\n",
      " condition is currently:  8 \n",
      "\n",
      "\n",
      "Warning for adding constraints: zero or small (< 1e-13) coefficients, ignored\n",
      "\n",
      "\n",
      " condition is currently:  4 \n",
      "\n",
      "\n",
      "Warning for adding constraints: zero or small (< 1e-13) coefficients, ignored\n",
      "\n",
      "\n",
      " condition is currently:  2 \n",
      "\n",
      "\n",
      "Warning for adding constraints: zero or small (< 1e-13) coefficients, ignored\n",
      "\n",
      "\n",
      " condition is currently:  1 \n",
      "\n",
      "\n",
      "Objective value is 0.115127.\n",
      "Read LP format model from file /tmp/tmpn9n7xliq.lp\n",
      "Reading time = 0.00 seconds\n",
      ": 1419 rows, 3166 columns, 14758 nonzeros\n",
      "Read LP format model from file /tmp/tmph0l3gm1i.lp\n",
      "Reading time = 0.01 seconds\n",
      ": 1419 rows, 3166 columns, 14758 nonzeros\n"
     ]
    }
   ],
   "source": [
    "Nit_media = {}\n",
    "with open(media_file) as f:\n",
    "    f.readline()\n",
    "    for line in f:\n",
    "        a = line.strip().split('\\t')\n",
    "        Nit_media['EX_' + a[0] + '_e0'] = {'lower_bound':-1, 'upper_bound':1, 'metabolites':{a[0]+'_e0':-1.0}}"
   ]
  },
  {
   "cell_type": "markdown",
   "id": "5ba5caa6",
   "metadata": {},
   "source": [
    "Gapfill the initial reconstruction using the nitrate media."
   ]
  },
  {
   "cell_type": "code",
   "execution_count": 63,
   "id": "ab1dbc0a",
   "metadata": {},
   "outputs": [
    {
     "name": "stderr",
     "output_type": "stream",
     "text": [
      "'' is not a valid SBML 'SId'.\n",
      "'' is not a valid SBML 'SId'.\n",
      "No objective coefficients in model. Unclear what should be optimized\n"
     ]
    },
    {
     "name": "stdout",
     "output_type": "stream",
     "text": [
      "Loading network at user provided path\n",
      "Converting to binary array:\n",
      "#reactions not found in keys:  7 / 1508\n"
     ]
    },
    {
     "name": "stderr",
     "output_type": "stream",
     "text": [
      "/home/luna.kuleuven.be/u0156635/.local/lib/python3.10/site-packages/keras/engine/training_v1.py:2357: UserWarning: `Model.state_updates` will be removed in a future version. This property should not be used in TensorFlow 2.0, as `updates` are applied automatically.\n",
      "  updates=self.state_updates,\n"
     ]
    },
    {
     "name": "stdout",
     "output_type": "stream",
     "text": [
      "Warning for adding constraints: zero or small (< 1e-13) coefficients, ignored\n",
      "Flux through biomass reaction is 1.00000000\n",
      "Flux through biomass reaction is 1.00000000\n",
      "Warning for adding constraints: zero or small (< 1e-13) coefficients, ignored\n",
      "\n",
      "\n",
      " condition is currently:  71554 \n",
      "\n",
      "\n",
      "Warning for adding constraints: zero or small (< 1e-13) coefficients, ignored\n",
      "\n",
      "\n",
      " condition is currently:  35777 \n",
      "\n",
      "\n",
      "Warning for adding constraints: zero or small (< 1e-13) coefficients, ignored\n",
      "\n",
      "\n",
      " condition is currently:  17888 \n",
      "\n",
      "\n",
      "Warning for adding constraints: zero or small (< 1e-13) coefficients, ignored\n",
      "\n",
      "\n",
      " condition is currently:  8944 \n",
      "\n",
      "\n",
      "Warning for adding constraints: zero or small (< 1e-13) coefficients, ignored\n",
      "\n",
      "\n",
      " condition is currently:  4472 \n",
      "\n",
      "\n",
      "Warning for adding constraints: zero or small (< 1e-13) coefficients, ignored\n",
      "\n",
      "\n",
      " condition is currently:  2236 \n",
      "\n",
      "\n",
      "Warning for adding constraints: zero or small (< 1e-13) coefficients, ignored\n",
      "\n",
      "\n",
      " condition is currently:  1118 \n",
      "\n",
      "\n",
      "Warning for adding constraints: zero or small (< 1e-13) coefficients, ignored\n",
      "\n",
      "\n",
      " condition is currently:  559 \n",
      "\n",
      "\n",
      "Warning for adding constraints: zero or small (< 1e-13) coefficients, ignored\n",
      "\n",
      "\n",
      " condition is currently:  279 \n",
      "\n",
      "\n",
      "Warning for adding constraints: zero or small (< 1e-13) coefficients, ignored\n",
      "\n",
      "\n",
      " condition is currently:  139 \n",
      "\n",
      "\n",
      "Warning for adding constraints: zero or small (< 1e-13) coefficients, ignored\n",
      "\n",
      "\n",
      " condition is currently:  69 \n",
      "\n",
      "\n",
      "Warning for adding constraints: zero or small (< 1e-13) coefficients, ignored\n",
      "\n",
      "\n",
      " condition is currently:  34 \n",
      "\n",
      "\n",
      "Warning for adding constraints: zero or small (< 1e-13) coefficients, ignored\n",
      "\n",
      "\n",
      " condition is currently:  17 \n",
      "\n",
      "\n",
      "Warning for adding constraints: zero or small (< 1e-13) coefficients, ignored\n",
      "\n",
      "\n",
      " condition is currently:  8 \n",
      "\n",
      "\n",
      "Warning for adding constraints: zero or small (< 1e-13) coefficients, ignored\n",
      "\n",
      "\n",
      " condition is currently:  4 \n",
      "\n",
      "\n",
      "Warning for adding constraints: zero or small (< 1e-13) coefficients, ignored\n",
      "\n",
      "\n",
      " condition is currently:  2 \n",
      "\n",
      "\n",
      "Warning for adding constraints: zero or small (< 1e-13) coefficients, ignored\n",
      "\n",
      "\n",
      " condition is currently:  1 \n",
      "\n",
      "\n",
      "Objective value is 0.115127.\n",
      "Read LP format model from file /tmp/tmpexem24jp.lp\n",
      "Reading time = 0.00 seconds\n",
      ": 1419 rows, 3166 columns, 14758 nonzeros\n"
     ]
    }
   ],
   "source": [
    "gapfill_nitr     = dnngior.Gapfill(path_to_blautia_model, medium = Nit_media, objectiveName = 'bio1')"
   ]
  },
  {
   "cell_type": "markdown",
   "id": "4bd2ce4e",
   "metadata": {},
   "source": [
    "Again, make an object of the gapfilled model and check whether it grows."
   ]
  },
  {
   "cell_type": "code",
   "execution_count": 65,
   "id": "69ba7788",
   "metadata": {},
   "outputs": [
    {
     "name": "stdout",
     "output_type": "stream",
     "text": [
      "Read LP format model from file /tmp/tmp_99qbd2m.lp\n",
      "Reading time = 0.00 seconds\n",
      ": 1419 rows, 3166 columns, 14758 nonzeros\n"
     ]
    },
    {
     "data": {
      "text/html": [
       "<strong><em>Optimal</em> solution with objective value 39.996</strong><br><div>\n",
       "<style scoped>\n",
       "    .dataframe tbody tr th:only-of-type {\n",
       "        vertical-align: middle;\n",
       "    }\n",
       "\n",
       "    .dataframe tbody tr th {\n",
       "        vertical-align: top;\n",
       "    }\n",
       "\n",
       "    .dataframe thead th {\n",
       "        text-align: right;\n",
       "    }\n",
       "</style>\n",
       "<table border=\"1\" class=\"dataframe\">\n",
       "  <thead>\n",
       "    <tr style=\"text-align: right;\">\n",
       "      <th></th>\n",
       "      <th>fluxes</th>\n",
       "      <th>reduced_costs</th>\n",
       "    </tr>\n",
       "  </thead>\n",
       "  <tbody>\n",
       "    <tr>\n",
       "      <th>rxn04070_c0</th>\n",
       "      <td>0.224345</td>\n",
       "      <td>0.0</td>\n",
       "    </tr>\n",
       "    <tr>\n",
       "      <th>rxn05467_c0</th>\n",
       "      <td>0.000000</td>\n",
       "      <td>0.0</td>\n",
       "    </tr>\n",
       "    <tr>\n",
       "      <th>rxn00543_c0</th>\n",
       "      <td>0.000000</td>\n",
       "      <td>0.0</td>\n",
       "    </tr>\n",
       "    <tr>\n",
       "      <th>rxn00527_c0</th>\n",
       "      <td>-0.081221</td>\n",
       "      <td>0.0</td>\n",
       "    </tr>\n",
       "    <tr>\n",
       "      <th>rxn08287_c0</th>\n",
       "      <td>5.506151</td>\n",
       "      <td>0.0</td>\n",
       "    </tr>\n",
       "    <tr>\n",
       "      <th>...</th>\n",
       "      <td>...</td>\n",
       "      <td>...</td>\n",
       "    </tr>\n",
       "    <tr>\n",
       "      <th>rxn00131_c0</th>\n",
       "      <td>11.392259</td>\n",
       "      <td>0.0</td>\n",
       "    </tr>\n",
       "    <tr>\n",
       "      <th>rxn05682_c0</th>\n",
       "      <td>0.000000</td>\n",
       "      <td>0.0</td>\n",
       "    </tr>\n",
       "    <tr>\n",
       "      <th>rxn00184_c0</th>\n",
       "      <td>0.000000</td>\n",
       "      <td>0.0</td>\n",
       "    </tr>\n",
       "    <tr>\n",
       "      <th>rxn01241_c0</th>\n",
       "      <td>0.000000</td>\n",
       "      <td>0.0</td>\n",
       "    </tr>\n",
       "    <tr>\n",
       "      <th>rxn21858_c0</th>\n",
       "      <td>0.000000</td>\n",
       "      <td>0.0</td>\n",
       "    </tr>\n",
       "  </tbody>\n",
       "</table>\n",
       "<p>1583 rows × 2 columns</p>\n",
       "</div>"
      ],
      "text/plain": [
       "<Solution 39.996 at 0x7f3db7d5ab00>"
      ]
     },
     "execution_count": 65,
     "metadata": {},
     "output_type": "execute_result"
    }
   ],
   "source": [
    "gf_model_Nit_med = gapfill_nitr.gapfilledModel.copy()\n",
    "gf_model_Nit_med.optimize()"
   ]
  },
  {
   "cell_type": "code",
   "execution_count": null,
   "id": "09b24f79",
   "metadata": {},
   "outputs": [],
   "source": []
  },
  {
   "cell_type": "code",
   "execution_count": null,
   "id": "9c5a7d87",
   "metadata": {},
   "outputs": [],
   "source": []
  },
  {
   "cell_type": "code",
   "execution_count": null,
   "id": "2c30f0b5",
   "metadata": {},
   "outputs": [],
   "source": []
  },
  {
   "cell_type": "code",
   "execution_count": null,
   "id": "adc45404",
   "metadata": {},
   "outputs": [],
   "source": []
  },
  {
   "cell_type": "code",
   "execution_count": null,
   "id": "ab15623b",
   "metadata": {},
   "outputs": [],
   "source": []
  },
  {
   "cell_type": "code",
   "execution_count": null,
   "id": "22647157",
   "metadata": {},
   "outputs": [],
   "source": []
  },
  {
   "cell_type": "code",
   "execution_count": null,
   "id": "3319d8a9",
   "metadata": {},
   "outputs": [],
   "source": []
  },
  {
   "cell_type": "code",
   "execution_count": null,
   "id": "71da28db",
   "metadata": {},
   "outputs": [],
   "source": []
  },
  {
   "cell_type": "markdown",
   "id": "ffcb896c",
   "metadata": {},
   "source": [
    "### Gapfilig a model with different costs for reactions\n",
    "\n",
    "Now we need to provide a python dictionary with reaction costs. The function will automatically give a cost of zero to reactions that are already in the draft model and also to the exchange reactions of the defined media. It will give a default cost (set to 1) to reactions that are not in the draft model nor in the dictionary with costs."
   ]
  },
  {
   "cell_type": "code",
   "execution_count": 25,
   "id": "6af15113",
   "metadata": {},
   "outputs": [],
   "source": [
    "# #select random reaction and add random costs between 0 and 1\n",
    "# candidate_reactions = {}\n",
    "# for i in  all_reactions.reactions:\n",
    "#     if np.random.uniform()<0.02:\n",
    "#         candidate_reactions[i] = np.random.uniform()\n",
    "\n",
    "        \n",
    "#use NN scores        \n",
    "s_file = open(os.path.join(path.parent, 'files', 'custom scores','prediction_example.json'))\n",
    "NN_scores = json.loads(s_file.read())\n",
    "s_file.close()\n",
    "\n",
    "\n",
    "\n",
    "candidate_reactions = {}\n",
    "for i in all_reactions.reactions:\n",
    "    if i in NN_scores.keys():\n",
    "        candidate_reactions[i] = NN_scores[i]\n"
   ]
  },
  {
   "cell_type": "markdown",
   "id": "8ade2a07",
   "metadata": {},
   "source": [
    "We will also use a different criteria to choose the gapfilled reaction. Instead of 'min_reactions' we use 'min_cost', selecting the set with a minimum sum of costs."
   ]
  },
  {
   "cell_type": "markdown",
   "id": "4fec2071",
   "metadata": {},
   "source": [
    "### Quick idea of what to do when no flux is observed on a particular media\n",
    "\n",
    "\n",
    "1) Run a gapfill on the with complete media option (as in [5])\n",
    "\n",
    "2) Run flux variability analysis (for big models this takes a long time to run):"
   ]
  },
  {
   "cell_type": "code",
   "execution_count": 31,
   "id": "8e8375ed",
   "metadata": {},
   "outputs": [],
   "source": [
    "model_exchanges = [i for i in model.reactions if ('EX_' in i.id) and ('_e0' in i.id)]"
   ]
  },
  {
   "cell_type": "code",
   "execution_count": null,
   "id": "d784ff5d",
   "metadata": {},
   "outputs": [],
   "source": [
    "fva = cobra.flux_analysis.flux_variability_analysis(model, model_exchanges)\n",
    "print(fva)"
   ]
  },
  {
   "cell_type": "markdown",
   "id": "01c33bf2",
   "metadata": {},
   "source": [
    "The exchange reaction where the minimum and maximum are negative are likely required in the medium. They are essential for the objective and likely the database reactions have no way to make them, so gapdfilling does not wotrk."
   ]
  }
 ],
 "metadata": {
  "kernelspec": {
   "display_name": "Python 3 (ipykernel)",
   "language": "python",
   "name": "python3"
  },
  "language_info": {
   "codemirror_mode": {
    "name": "ipython",
    "version": 3
   },
   "file_extension": ".py",
   "mimetype": "text/x-python",
   "name": "python",
   "nbconvert_exporter": "python",
   "pygments_lexer": "ipython3",
   "version": "3.10.6"
  }
 },
 "nbformat": 4,
 "nbformat_minor": 5
}
